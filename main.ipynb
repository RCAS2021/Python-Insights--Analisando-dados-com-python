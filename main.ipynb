{
 "cells": [
  {
   "cell_type": "code",
   "execution_count": null,
   "metadata": {},
   "outputs": [],
   "source": [
    "# Instalando bibliotecas\n",
    "!pip install pandas plotly ipykernel nbformat --user"
   ]
  },
  {
   "cell_type": "code",
   "execution_count": null,
   "metadata": {},
   "outputs": [],
   "source": [
    "# Passo 1: Importar a base de dados\n",
    "import pandas as pd\n",
    "\n",
    "usuarios = pd.read_csv('cancelamentos.csv')"
   ]
  },
  {
   "cell_type": "code",
   "execution_count": null,
   "metadata": {},
   "outputs": [],
   "source": [
    "# Passo 2: Visualizar a base de dados\n",
    "# Visualizando a tabela\n",
    "display(usuarios)\n",
    "\n",
    "# Descrição das colunas (Contagem, média, desvio padrão, min, quartis, max)\n",
    "display(usuarios.describe())\n",
    "\n",
    "# Informações da tabela (Tipos das colunas e números não-nulos)\n",
    "usuarios.info()"
   ]
  },
  {
   "cell_type": "code",
   "execution_count": null,
   "metadata": {},
   "outputs": [],
   "source": [
    "# Passo 3: Tratamento dos dados"
   ]
  },
  {
   "cell_type": "code",
   "execution_count": null,
   "metadata": {},
   "outputs": [],
   "source": [
    "# Colunas que não serão utilizadas\n",
    "# - Customer ID\n",
    "\n",
    "# Removendo colunas inúteis\n",
    "usuarios = usuarios.drop(columns=\"CustomerID\")\n",
    "display(usuarios)"
   ]
  },
  {
   "cell_type": "code",
   "execution_count": null,
   "metadata": {},
   "outputs": [],
   "source": [
    "# Informações no formato errado - As colunas já estão com os tipos corretos"
   ]
  },
  {
   "cell_type": "code",
   "execution_count": null,
   "metadata": {},
   "outputs": [],
   "source": [
    "# Valores vazios\n",
    "# Como são poucos valores vazios (), excluir as linhas com valores vazios\n",
    "usuarios = usuarios.dropna()\n",
    "usuarios.info()"
   ]
  },
  {
   "cell_type": "code",
   "execution_count": null,
   "metadata": {},
   "outputs": [],
   "source": [
    "# Valores duplicados - Não utilizado na aula pois foram duplicados de propósito\n",
    "# Checando quantidade de linhas duplicadas\n",
    "duplicados = usuarios.duplicated().sum()\n",
    "print(duplicados)\n",
    "\n",
    "# Removendo linhas duplicadas\n",
    "#usuarios = usuarios.drop_duplicates()"
   ]
  },
  {
   "cell_type": "code",
   "execution_count": null,
   "metadata": {},
   "outputs": [],
   "source": [
    "# Passo 4: Análise inicial\n",
    "# Descobrir o percentual e quantidade de clientes que cancelaram e que não cancelaram\n",
    "# Pegando a coluna cancelou e contando os valores\n",
    "qtd_cancelamento = usuarios['cancelou'].value_counts()\n",
    "\n",
    "qtd_cancelamento_percentual = usuarios['cancelou'].value_counts(normalize=True).map('{:.2%}'.format)\n",
    "\n",
    "display(qtd_cancelamento)\n",
    "display(qtd_cancelamento_percentual)\n"
   ]
  },
  {
   "cell_type": "code",
   "execution_count": null,
   "metadata": {},
   "outputs": [],
   "source": [
    "usuarios.head()"
   ]
  },
  {
   "cell_type": "code",
   "execution_count": null,
   "metadata": {},
   "outputs": [],
   "source": [
    "# Passo 5: Análise da causa dos cancelamentos\n",
    "\n",
    "# Impacto das colunas na quantidade de cancelamentos\n",
    "# Importar biblioteca de gráficos plotly\n",
    "import plotly.express as px"
   ]
  },
  {
   "cell_type": "code",
   "execution_count": null,
   "metadata": {},
   "outputs": [],
   "source": [
    "# Criando os gráficos de histograma das colunas, separando por cor com base se cancelou ou não\n",
    "# Pegando as colunas da tabela\n",
    "colunas = [x for x in usuarios.columns]\n",
    "\n",
    "# Percorrendo a lista das colunas e criando os gráficos com base na coluna\n",
    "for coluna in colunas:\n",
    "    hist = px.histogram(usuarios, x=coluna, color='cancelou')\n",
    "\n",
    "    # Exibindo o gráfico\n",
    "    hist.show()"
   ]
  },
  {
   "cell_type": "code",
   "execution_count": null,
   "metadata": {},
   "outputs": [],
   "source": [
    "# todos os clientes que ligaram mais de 4x para o call center, cancelaram\n",
    "    # Criar um processo interno para resolver os problemas dos clientes em no máximo 4 ligações\n",
    "\n",
    "# todos os clientes que atrasaram mais de 20 dias no pagamento, cancelaram\n",
    "    # Criar um processo que quando bate 10 dias de atraso no pagamento\n",
    "\n",
    "# todos os clientes de contrato mensal, cancelaram\n",
    "    # Oferecer desconto nos contratos anuais e trimestrais\n",
    "\n",
    "# Filtrando a base de dados\n",
    "# se eu resolver o problema de ligações ao call center, pra quanto cai o cancelamento?\n",
    "filtro = usuarios['ligacoes_callcenter'] <= 4\n",
    "usuarios = usuarios[filtro]\n",
    "\n",
    "# e o atraso?\n",
    "filtro = usuarios['dias_atraso'] <= 20\n",
    "usuarios = usuarios[filtro]\n",
    "\n",
    "# e o contrato mensal?\n",
    "filtro = usuarios['duracao_contrato'] != 'Monthly'\n",
    "usuarios = usuarios[filtro]\n",
    "\n",
    "display(usuarios['cancelou'].value_counts(normalize=True))"
   ]
  },
  {
   "cell_type": "code",
   "execution_count": null,
   "metadata": {},
   "outputs": [],
   "source": [
    "# Criando gráfico de correlação com o seaborn para verificar relações lineares\n",
    "!pip install seaborn matplotlib --user\n",
    "\n",
    "import seaborn as sns\n",
    "import matplotlib.pyplot as plt"
   ]
  },
  {
   "cell_type": "code",
   "execution_count": null,
   "metadata": {},
   "outputs": [],
   "source": [
    "# Copiando a tabela\n",
    "usuarios_final = usuarios.copy()\n",
    "\n",
    "# Transformando dados em string para float\n",
    "# Sexo\n",
    "mapeamento_sexo = {'Male': 1.0, 'Female':0.0}\n",
    "usuarios_final['sexo'] = usuarios_final['sexo'].replace(mapeamento_sexo)\n",
    "\n",
    "# Assinatura\n",
    "mapeamento_assinatura = {'Basic': 0.0, 'Standard': 1.0, 'Premium': 2.0}\n",
    "usuarios_final['assinatura'] = usuarios_final['assinatura'].replace(mapeamento_assinatura)\n",
    "\n",
    "# Duração contrato\n",
    "mapeamento_duracao = {'Monthly': 0.0, 'Quarterly': 1.0, 'Annual': 2.0}\n",
    "usuarios_final['duracao_contrato'] = usuarios_final['duracao_contrato'].replace(mapeamento_duracao)\n",
    "\n",
    "# Calcula a matriz de correlação\n",
    "matriz_correlacao = usuarios_final.corr()\n",
    "\n",
    "# Cria um heatmap com Seaborn\n",
    "plt.figure(figsize=(10, 8))\n",
    "sns.heatmap(matriz_correlacao, annot=True, fmt=\".2f\", cmap='coolwarm')\n",
    "\n",
    "# Mostra o gráfico\n",
    "plt.show()"
   ]
  }
 ],
 "metadata": {
  "kernelspec": {
   "display_name": "Python 3",
   "language": "python",
   "name": "python3"
  },
  "language_info": {
   "codemirror_mode": {
    "name": "ipython",
    "version": 3
   },
   "file_extension": ".py",
   "mimetype": "text/x-python",
   "name": "python",
   "nbconvert_exporter": "python",
   "pygments_lexer": "ipython3",
   "version": "3.11.5"
  }
 },
 "nbformat": 4,
 "nbformat_minor": 2
}
